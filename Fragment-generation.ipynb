{
 "cells": [
  {
   "cell_type": "code",
   "execution_count": 10,
   "id": "276d20bc",
   "metadata": {},
   "outputs": [
    {
     "name": "stderr",
     "output_type": "stream",
     "text": [
      "[12:21:40] Explicit valence for atom # 19 N, 4, is greater than permitted\n"
     ]
    },
    {
     "name": "stdout",
     "output_type": "stream",
     "text": [
      "Generated fragments saved to 'generated_fragments.csv'.\n"
     ]
    }
   ],
   "source": [
    "import pandas as pd\n",
    "from rdkit import Chem\n",
    "from rdkit.Chem import BRICS\n",
    "\n",
    "# Function to fragment a molecule using BRICS\n",
    "def fragment_molecule(smiles):\n",
    "    mol = Chem.MolFromSmiles(smiles)\n",
    "    if mol is None:\n",
    "        return []\n",
    "    fragments = BRICS.BRICSDecompose(mol, returnMols=True)\n",
    "    return [Chem.MolToSmiles(frag) for frag in fragments]\n",
    "\n",
    "# Load the CSV file\n",
    "df = pd.read_csv('D:/path/Test.csv')\n",
    "\n",
    "# Generate fragments from the SMILES dataset\n",
    "df['fragments'] = df['smiles'].apply(fragment_molecule)\n",
    "\n",
    "# Flatten the fragments into a new DataFrame\n",
    "fragments_list = []\n",
    "for index, row in df.iterrows():\n",
    "    for fragment in row['fragments']:\n",
    "        fragments_list.append({'original_smiles': row['smiles'], 'fragment': fragment})\n",
    "\n",
    "fragments_df = pd.DataFrame(fragments_list)\n",
    "\n",
    "# Save the fragments to a new CSV file\n",
    "fragments_df.to_csv('D:/path/generated_fragments.csv', index=False)\n",
    "\n",
    "print(\"Generated fragments saved to 'generated_fragments.csv'.\")"
   ]
  }
 ],
 "metadata": {
  "kernelspec": {
   "display_name": "Python 3",
   "language": "python",
   "name": "python3"
  },
  "language_info": {
   "codemirror_mode": {
    "name": "ipython",
    "version": 3
   },
   "file_extension": ".py",
   "mimetype": "text/x-python",
   "name": "python",
   "nbconvert_exporter": "python",
   "pygments_lexer": "ipython3",
   "version": "3.8.8"
  }
 },
 "nbformat": 4,
 "nbformat_minor": 5
}
